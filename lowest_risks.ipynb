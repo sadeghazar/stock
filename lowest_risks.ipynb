{
 "cells": [
  {
   "cell_type": "code",
   "execution_count": 28,
   "metadata": {},
   "outputs": [],
   "source": [
    "import pandas as pd\n",
    "import numpy as np\n",
    "import matplotlib.pyplot as plt\n",
    "import StockHistory\n",
    "import seaborn as sns"
   ]
  },
  {
   "cell_type": "code",
   "execution_count": 29,
   "metadata": {},
   "outputs": [],
   "source": [
    "names = StockHistory.get_namad_list()"
   ]
  },
  {
   "cell_type": "code",
   "execution_count": 33,
   "metadata": {},
   "outputs": [
    {
     "data": {
      "text/plain": [
       "48"
      ]
     },
     "execution_count": 33,
     "metadata": {},
     "output_type": "execute_result"
    }
   ],
   "source": [
    "sec_data = pd.DataFrame()\n",
    "for n in names.head(n=50)[\"NAMAD\"]:\n",
    "    sec_data[n] = StockHistory.get_namad_history_by_name(n,start_date='1390-1-1',from_cache=True)[\"ClosePrice\"]\n",
    "len(sec_data)"
   ]
  },
  {
   "cell_type": "code",
   "execution_count": 34,
   "metadata": {},
   "outputs": [
    {
     "data": {
      "text/html": [
       "<div>\n",
       "<style scoped>\n",
       "    .dataframe tbody tr th:only-of-type {\n",
       "        vertical-align: middle;\n",
       "    }\n",
       "\n",
       "    .dataframe tbody tr th {\n",
       "        vertical-align: top;\n",
       "    }\n",
       "\n",
       "    .dataframe thead th {\n",
       "        text-align: right;\n",
       "    }\n",
       "</style>\n",
       "<table border=\"1\" class=\"dataframe\">\n",
       "  <thead>\n",
       "    <tr style=\"text-align: right;\">\n",
       "      <th></th>\n",
       "      <th>جكانه806</th>\n",
       "      <th>تملي612</th>\n",
       "      <th>فسا</th>\n",
       "      <th>تسه9705</th>\n",
       "      <th>فرآور</th>\n",
       "      <th>ضمخا7012</th>\n",
       "      <th>سبزوا</th>\n",
       "      <th>وبملت</th>\n",
       "      <th>لپيام</th>\n",
       "      <th>ثنام</th>\n",
       "      <th>...</th>\n",
       "      <th>سكرد98</th>\n",
       "      <th>حتايد</th>\n",
       "      <th>غشهدابح</th>\n",
       "      <th>رتكو</th>\n",
       "      <th>تملي706</th>\n",
       "      <th>ثمسكن</th>\n",
       "      <th>صايپا908</th>\n",
       "      <th>ضخود1024</th>\n",
       "      <th>مفاخر</th>\n",
       "      <th>قرن99</th>\n",
       "    </tr>\n",
       "  </thead>\n",
       "  <tbody>\n",
       "    <tr>\n",
       "      <th>0</th>\n",
       "      <td>NaN</td>\n",
       "      <td>NaN</td>\n",
       "      <td>NaN</td>\n",
       "      <td>NaN</td>\n",
       "      <td>NaN</td>\n",
       "      <td>NaN</td>\n",
       "      <td>NaN</td>\n",
       "      <td>NaN</td>\n",
       "      <td>NaN</td>\n",
       "      <td>NaN</td>\n",
       "      <td>...</td>\n",
       "      <td>NaN</td>\n",
       "      <td>NaN</td>\n",
       "      <td>NaN</td>\n",
       "      <td>NaN</td>\n",
       "      <td>NaN</td>\n",
       "      <td>NaN</td>\n",
       "      <td>NaN</td>\n",
       "      <td>NaN</td>\n",
       "      <td>NaN</td>\n",
       "      <td>NaN</td>\n",
       "    </tr>\n",
       "    <tr>\n",
       "      <th>1</th>\n",
       "      <td>-0.048583</td>\n",
       "      <td>0.0</td>\n",
       "      <td>-0.062945</td>\n",
       "      <td>0.014969</td>\n",
       "      <td>0.007075</td>\n",
       "      <td>0.0</td>\n",
       "      <td>0.013161</td>\n",
       "      <td>-0.042505</td>\n",
       "      <td>0.000000</td>\n",
       "      <td>0.002891</td>\n",
       "      <td>...</td>\n",
       "      <td>0.0</td>\n",
       "      <td>-0.006590</td>\n",
       "      <td>-0.007667</td>\n",
       "      <td>-0.028353</td>\n",
       "      <td>0.000000</td>\n",
       "      <td>0.016423</td>\n",
       "      <td>0.0</td>\n",
       "      <td>0.0</td>\n",
       "      <td>-0.046858</td>\n",
       "      <td>0.0</td>\n",
       "    </tr>\n",
       "    <tr>\n",
       "      <th>2</th>\n",
       "      <td>-0.013306</td>\n",
       "      <td>0.0</td>\n",
       "      <td>0.001273</td>\n",
       "      <td>0.024704</td>\n",
       "      <td>-0.015181</td>\n",
       "      <td>0.0</td>\n",
       "      <td>-0.032069</td>\n",
       "      <td>0.008453</td>\n",
       "      <td>-0.062198</td>\n",
       "      <td>-0.023366</td>\n",
       "      <td>...</td>\n",
       "      <td>0.0</td>\n",
       "      <td>-0.000472</td>\n",
       "      <td>-0.005343</td>\n",
       "      <td>-0.030161</td>\n",
       "      <td>0.000000</td>\n",
       "      <td>-0.033120</td>\n",
       "      <td>0.0</td>\n",
       "      <td>NaN</td>\n",
       "      <td>-0.032918</td>\n",
       "      <td>0.0</td>\n",
       "    </tr>\n",
       "    <tr>\n",
       "      <th>3</th>\n",
       "      <td>-0.012862</td>\n",
       "      <td>0.0</td>\n",
       "      <td>-0.005102</td>\n",
       "      <td>-0.010236</td>\n",
       "      <td>-0.000902</td>\n",
       "      <td>NaN</td>\n",
       "      <td>0.039257</td>\n",
       "      <td>-0.013690</td>\n",
       "      <td>0.013453</td>\n",
       "      <td>-0.002959</td>\n",
       "      <td>...</td>\n",
       "      <td>0.0</td>\n",
       "      <td>-0.007112</td>\n",
       "      <td>-0.023488</td>\n",
       "      <td>0.005325</td>\n",
       "      <td>-0.048753</td>\n",
       "      <td>-0.041860</td>\n",
       "      <td>0.0</td>\n",
       "      <td>NaN</td>\n",
       "      <td>-0.005219</td>\n",
       "      <td>0.0</td>\n",
       "    </tr>\n",
       "    <tr>\n",
       "      <th>4</th>\n",
       "      <td>0.000596</td>\n",
       "      <td>0.0</td>\n",
       "      <td>0.021506</td>\n",
       "      <td>0.018225</td>\n",
       "      <td>0.008140</td>\n",
       "      <td>NaN</td>\n",
       "      <td>0.047638</td>\n",
       "      <td>0.014661</td>\n",
       "      <td>0.000000</td>\n",
       "      <td>0.015294</td>\n",
       "      <td>...</td>\n",
       "      <td>0.0</td>\n",
       "      <td>0.016752</td>\n",
       "      <td>0.019910</td>\n",
       "      <td>0.030529</td>\n",
       "      <td>0.000000</td>\n",
       "      <td>-0.000764</td>\n",
       "      <td>0.0</td>\n",
       "      <td>NaN</td>\n",
       "      <td>0.031398</td>\n",
       "      <td>0.0</td>\n",
       "    </tr>\n",
       "  </tbody>\n",
       "</table>\n",
       "<p>5 rows × 50 columns</p>\n",
       "</div>"
      ],
      "text/plain": [
       "   جكانه806  تملي612       فسا   تسه9705     فرآور  ضمخا7012     سبزوا  \\\n",
       "0       NaN      NaN       NaN       NaN       NaN       NaN       NaN   \n",
       "1 -0.048583      0.0 -0.062945  0.014969  0.007075       0.0  0.013161   \n",
       "2 -0.013306      0.0  0.001273  0.024704 -0.015181       0.0 -0.032069   \n",
       "3 -0.012862      0.0 -0.005102 -0.010236 -0.000902       NaN  0.039257   \n",
       "4  0.000596      0.0  0.021506  0.018225  0.008140       NaN  0.047638   \n",
       "\n",
       "      وبملت     لپيام      ثنام  ...  سكرد98     حتايد   غشهدابح      رتكو  \\\n",
       "0       NaN       NaN       NaN  ...     NaN       NaN       NaN       NaN   \n",
       "1 -0.042505  0.000000  0.002891  ...     0.0 -0.006590 -0.007667 -0.028353   \n",
       "2  0.008453 -0.062198 -0.023366  ...     0.0 -0.000472 -0.005343 -0.030161   \n",
       "3 -0.013690  0.013453 -0.002959  ...     0.0 -0.007112 -0.023488  0.005325   \n",
       "4  0.014661  0.000000  0.015294  ...     0.0  0.016752  0.019910  0.030529   \n",
       "\n",
       "    تملي706     ثمسكن  صايپا908  ضخود1024     مفاخر  قرن99  \n",
       "0       NaN       NaN       NaN       NaN       NaN    NaN  \n",
       "1  0.000000  0.016423       0.0       0.0 -0.046858    0.0  \n",
       "2  0.000000 -0.033120       0.0       NaN -0.032918    0.0  \n",
       "3 -0.048753 -0.041860       0.0       NaN -0.005219    0.0  \n",
       "4  0.000000 -0.000764       0.0       NaN  0.031398    0.0  \n",
       "\n",
       "[5 rows x 50 columns]"
      ]
     },
     "execution_count": 34,
     "metadata": {},
     "output_type": "execute_result"
    }
   ],
   "source": [
    "sec_returns = np.log(sec_data / sec_data.shift(1))\n",
    "sec_returns.head()"
   ]
  },
  {
   "cell_type": "code",
   "execution_count": 35,
   "metadata": {},
   "outputs": [],
   "source": [
    "corr = sec_returns.corr()"
   ]
  },
  {
   "cell_type": "code",
   "execution_count": 36,
   "metadata": {},
   "outputs": [
    {
     "data": {
      "text/plain": [
       "<matplotlib.axes._subplots.AxesSubplot at 0x7efe0bdabb38>"
      ]
     },
     "execution_count": 36,
     "metadata": {},
     "output_type": "execute_result"
    },
    {
     "data": {
      "image/png": "[encoded data removed]",
      "text/plain": [
       "<Figure size 792x648 with 2 Axes>"
      ]
     },
     "metadata": {
      "needs_background": "light"
     },
     "output_type": "display_data"
    }
   ],
   "source": [
    "mask = np.zeros_like(corr, dtype=np.bool)\n",
    "mask[np.triu_indices_from(mask)] = True\n",
    "\n",
    "# Set up the matplotlib figure\n",
    "f, ax = plt.subplots(figsize=(11, 9))\n",
    "\n",
    "# Generate a custom diverging colormap\n",
    "cmap = sns.diverging_palette(220, 10, as_cmap=True)\n",
    "\n",
    "# Draw the heatmap with the mask and correct aspect ratio\n",
    "sns.heatmap(corr, mask=mask, cmap=cmap, vmax=.3, center=0,\n",
    "            square=True, linewidths=.5, cbar_kws={\"shrink\": .5})"
   ]
  },
  {
   "cell_type": "code",
   "execution_count": null,
   "metadata": {},
   "outputs": [],
   "source": []
  }
 ],
 "metadata": {
  "kernelspec": {
   "display_name": "Python 3",
   "language": "python",
   "name": "python3"
  },
  "language_info": {
   "codemirror_mode": {
    "name": "ipython",
    "version": 3
   },
   "file_extension": ".py",
   "mimetype": "text/x-python",
   "name": "python",
   "nbconvert_exporter": "python",
   "pygments_lexer": "ipython3",
   "version": "3.6.5"
  }
 },
 "nbformat": 4,
 "nbformat_minor": 1
}
